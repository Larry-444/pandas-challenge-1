{
 "cells": [
  {
   "cell_type": "markdown",
   "id": "dc0318d6",
   "metadata": {},
   "source": [
    "## Part 1: Explore the Data\n",
    "\n",
    "Import the data and use Pandas to learn more about the dataset."
   ]
  },
  {
   "cell_type": "code",
   "execution_count": 1,
   "id": "e076f57f",
   "metadata": {},
   "outputs": [
    {
     "data": {
      "text/html": [
       "<div>\n",
       "<style scoped>\n",
       "    .dataframe tbody tr th:only-of-type {\n",
       "        vertical-align: middle;\n",
       "    }\n",
       "\n",
       "    .dataframe tbody tr th {\n",
       "        vertical-align: top;\n",
       "    }\n",
       "\n",
       "    .dataframe thead th {\n",
       "        text-align: right;\n",
       "    }\n",
       "</style>\n",
       "<table border=\"1\" class=\"dataframe\">\n",
       "  <thead>\n",
       "    <tr style=\"text-align: right;\">\n",
       "      <th></th>\n",
       "      <th>first</th>\n",
       "      <th>last</th>\n",
       "      <th>job</th>\n",
       "      <th>phone</th>\n",
       "      <th>email</th>\n",
       "      <th>client_id</th>\n",
       "      <th>order_id</th>\n",
       "      <th>order_date</th>\n",
       "      <th>order_week</th>\n",
       "      <th>order_year</th>\n",
       "      <th>item_id</th>\n",
       "      <th>category</th>\n",
       "      <th>subcategory</th>\n",
       "      <th>unit_price</th>\n",
       "      <th>unit_cost</th>\n",
       "      <th>unit_weight</th>\n",
       "      <th>qty</th>\n",
       "      <th>line_number</th>\n",
       "    </tr>\n",
       "  </thead>\n",
       "  <tbody>\n",
       "    <tr>\n",
       "      <th>0</th>\n",
       "      <td>Donald</td>\n",
       "      <td>Harding</td>\n",
       "      <td>Immunologist</td>\n",
       "      <td>793-904-7725x39308</td>\n",
       "      <td>harding.donald.7185@sullivan.com</td>\n",
       "      <td>58515</td>\n",
       "      <td>8953482</td>\n",
       "      <td>2023-04-28</td>\n",
       "      <td>17</td>\n",
       "      <td>2023</td>\n",
       "      <td>EUD29711-63-6U</td>\n",
       "      <td>decor</td>\n",
       "      <td>wall art</td>\n",
       "      <td>1096.80</td>\n",
       "      <td>762.71</td>\n",
       "      <td>7.50</td>\n",
       "      <td>105</td>\n",
       "      <td>1</td>\n",
       "    </tr>\n",
       "    <tr>\n",
       "      <th>1</th>\n",
       "      <td>Tiffany</td>\n",
       "      <td>Myers</td>\n",
       "      <td>Music therapist</td>\n",
       "      <td>201.442.4543x942</td>\n",
       "      <td>myers.t.6537@ferguson-johnson.net</td>\n",
       "      <td>37609</td>\n",
       "      <td>8069089</td>\n",
       "      <td>2023-05-19</td>\n",
       "      <td>20</td>\n",
       "      <td>2023</td>\n",
       "      <td>XDA18116-89-4A</td>\n",
       "      <td>consumables</td>\n",
       "      <td>pens</td>\n",
       "      <td>24.95</td>\n",
       "      <td>15.09</td>\n",
       "      <td>1.49</td>\n",
       "      <td>21</td>\n",
       "      <td>0</td>\n",
       "    </tr>\n",
       "    <tr>\n",
       "      <th>2</th>\n",
       "      <td>Shannon</td>\n",
       "      <td>Watson</td>\n",
       "      <td>Immunologist</td>\n",
       "      <td>687.737.9424x8503</td>\n",
       "      <td>swatson8146@payne.net</td>\n",
       "      <td>57113</td>\n",
       "      <td>1902144</td>\n",
       "      <td>2023-01-29</td>\n",
       "      <td>4</td>\n",
       "      <td>2023</td>\n",
       "      <td>ABE59463-05-7E</td>\n",
       "      <td>software</td>\n",
       "      <td>project management</td>\n",
       "      <td>13.52</td>\n",
       "      <td>7.86</td>\n",
       "      <td>1.68</td>\n",
       "      <td>39</td>\n",
       "      <td>6</td>\n",
       "    </tr>\n",
       "    <tr>\n",
       "      <th>3</th>\n",
       "      <td>Nathan</td>\n",
       "      <td>Baker</td>\n",
       "      <td>Accounting technician</td>\n",
       "      <td>827-788-8123x012</td>\n",
       "      <td>bakernathan@benson.com</td>\n",
       "      <td>46554</td>\n",
       "      <td>9031802</td>\n",
       "      <td>2023-04-25</td>\n",
       "      <td>17</td>\n",
       "      <td>2023</td>\n",
       "      <td>ZMM00836-65-0C</td>\n",
       "      <td>consumables</td>\n",
       "      <td>pens</td>\n",
       "      <td>36.42</td>\n",
       "      <td>24.85</td>\n",
       "      <td>1.23</td>\n",
       "      <td>29</td>\n",
       "      <td>3</td>\n",
       "    </tr>\n",
       "    <tr>\n",
       "      <th>4</th>\n",
       "      <td>Christina</td>\n",
       "      <td>Schwartz</td>\n",
       "      <td>Chiropractor</td>\n",
       "      <td>265-829-3643</td>\n",
       "      <td>christinaschwartz9252@mcconnell.com</td>\n",
       "      <td>92089</td>\n",
       "      <td>1322274</td>\n",
       "      <td>2023-05-28</td>\n",
       "      <td>21</td>\n",
       "      <td>2023</td>\n",
       "      <td>BZX55559-12-3X</td>\n",
       "      <td>consumables</td>\n",
       "      <td>misc</td>\n",
       "      <td>195.10</td>\n",
       "      <td>108.17</td>\n",
       "      <td>46.43</td>\n",
       "      <td>20</td>\n",
       "      <td>1</td>\n",
       "    </tr>\n",
       "  </tbody>\n",
       "</table>\n",
       "</div>"
      ],
      "text/plain": [
       "       first      last                    job               phone  \\\n",
       "0     Donald   Harding           Immunologist  793-904-7725x39308   \n",
       "1    Tiffany     Myers        Music therapist    201.442.4543x942   \n",
       "2    Shannon    Watson           Immunologist   687.737.9424x8503   \n",
       "3     Nathan     Baker  Accounting technician    827-788-8123x012   \n",
       "4  Christina  Schwartz           Chiropractor        265-829-3643   \n",
       "\n",
       "                                 email  client_id  order_id  order_date  \\\n",
       "0     harding.donald.7185@sullivan.com      58515   8953482  2023-04-28   \n",
       "1    myers.t.6537@ferguson-johnson.net      37609   8069089  2023-05-19   \n",
       "2                swatson8146@payne.net      57113   1902144  2023-01-29   \n",
       "3               bakernathan@benson.com      46554   9031802  2023-04-25   \n",
       "4  christinaschwartz9252@mcconnell.com      92089   1322274  2023-05-28   \n",
       "\n",
       "   order_week  order_year         item_id     category         subcategory  \\\n",
       "0          17        2023  EUD29711-63-6U        decor            wall art   \n",
       "1          20        2023  XDA18116-89-4A  consumables                pens   \n",
       "2           4        2023  ABE59463-05-7E     software  project management   \n",
       "3          17        2023  ZMM00836-65-0C  consumables                pens   \n",
       "4          21        2023  BZX55559-12-3X  consumables                misc   \n",
       "\n",
       "   unit_price  unit_cost  unit_weight  qty  line_number  \n",
       "0     1096.80     762.71         7.50  105            1  \n",
       "1       24.95      15.09         1.49   21            0  \n",
       "2       13.52       7.86         1.68   39            6  \n",
       "3       36.42      24.85         1.23   29            3  \n",
       "4      195.10     108.17        46.43   20            1  "
      ]
     },
     "execution_count": 1,
     "metadata": {},
     "output_type": "execute_result"
    }
   ],
   "source": [
    "import pandas as pd\n",
    "\n",
    "df = pd.read_csv('Resources/client_dataset.csv')\n",
    "df.head()"
   ]
  },
  {
   "cell_type": "code",
   "execution_count": 2,
   "id": "71b9bbd2",
   "metadata": {},
   "outputs": [
    {
     "data": {
      "text/plain": [
       "Index(['first', 'last', 'job', 'phone', 'email', 'client_id', 'order_id',\n",
       "       'order_date', 'order_week', 'order_year', 'item_id', 'category',\n",
       "       'subcategory', 'unit_price', 'unit_cost', 'unit_weight', 'qty',\n",
       "       'line_number'],\n",
       "      dtype='object')"
      ]
     },
     "execution_count": 2,
     "metadata": {},
     "output_type": "execute_result"
    }
   ],
   "source": [
    "# View the column names in the data\n",
    "df.columns\n"
   ]
  },
  {
   "cell_type": "code",
   "execution_count": 3,
   "id": "bc0f4172",
   "metadata": {},
   "outputs": [
    {
     "name": "stdout",
     "output_type": "stream",
     "text": [
      "          client_id      order_id    order_week    order_year    unit_price  \\\n",
      "count  54639.000000  5.463900e+04  54639.000000  54639.000000  54639.000000   \n",
      "mean   54837.869416  5.470190e+06     11.359139   2022.993064    136.267207   \n",
      "std    25487.438231  2.599807e+06      7.023499      0.082997    183.873135   \n",
      "min    10033.000000  1.000886e+06      1.000000   2022.000000      0.010000   \n",
      "25%    33593.000000  3.196372e+06      6.000000   2023.000000     20.800000   \n",
      "50%    53305.000000  5.496966e+06     11.000000   2023.000000     68.310000   \n",
      "75%    78498.000000  7.733869e+06     17.000000   2023.000000    173.160000   \n",
      "max    99984.000000  9.998480e+06     52.000000   2023.000000   1396.230000   \n",
      "\n",
      "          unit_cost   unit_weight           qty   line_number  \n",
      "count  54639.000000  54639.000000  5.463900e+04  54639.000000  \n",
      "mean      99.446073      5.004116  5.702646e+02      2.979667  \n",
      "std      133.164267      5.326599  1.879552e+04      2.436320  \n",
      "min        0.010000      0.000000  0.000000e+00      0.000000  \n",
      "25%       14.840000      1.450000  3.200000e+01      1.000000  \n",
      "50%       49.890000      3.240000  6.800000e+01      3.000000  \n",
      "75%      125.570000      6.890000  1.700000e+02      5.000000  \n",
      "max      846.270000     46.430000  3.958244e+06      9.000000  \n"
     ]
    }
   ],
   "source": [
    "# Use the describe function to gather some basic statistics\n",
    "print(df.describe())"
   ]
  },
  {
   "cell_type": "code",
   "execution_count": 4,
   "id": "b24b53cc",
   "metadata": {},
   "outputs": [
    {
     "name": "stdout",
     "output_type": "stream",
     "text": [
      "first           object\n",
      "last            object\n",
      "job             object\n",
      "phone           object\n",
      "email           object\n",
      "client_id        int64\n",
      "order_id         int64\n",
      "order_date      object\n",
      "order_week       int64\n",
      "order_year       int64\n",
      "item_id         object\n",
      "category        object\n",
      "subcategory     object\n",
      "unit_price     float64\n",
      "unit_cost      float64\n",
      "unit_weight    float64\n",
      "qty              int64\n",
      "line_number      int64\n",
      "dtype: object\n"
     ]
    }
   ],
   "source": [
    "# Use this space to do any additional research\n",
    "# and familiarize yourself with the data.\n",
    "print(df.dtypes)\n"
   ]
  },
  {
   "cell_type": "code",
   "execution_count": 5,
   "id": "551cb358",
   "metadata": {},
   "outputs": [
    {
     "name": "stdout",
     "output_type": "stream",
     "text": [
      "category\n",
      "consumables    23538\n",
      "furniture      11915\n",
      "software        8400\n",
      "Name: count, dtype: int64\n"
     ]
    }
   ],
   "source": [
    "# What three item categories had the most entries?\n",
    "category_counts = df['category'].value_counts()\n",
    "\n",
    "top_three_categories = category_counts.head(3)\n",
    "print(top_three_categories)\n"
   ]
  },
  {
   "cell_type": "code",
   "execution_count": 6,
   "id": "5f54e2cf",
   "metadata": {},
   "outputs": [
    {
     "name": "stdout",
     "output_type": "stream",
     "text": [
      "subcategory\n",
      "bathroom supplies    6424\n",
      "Name: count, dtype: int64\n"
     ]
    }
   ],
   "source": [
    "# For the category with the most entries, which subcategory had the most entries?\n",
    "top_category = df['category'].value_counts().idxmax()\n",
    "top_category_df = df[df['category'] == top_category]\n",
    "subcategory_counts = top_category_df['subcategory'].value_counts()\n",
    "top_subcategory = subcategory_counts.idxmax()\n",
    "top_subcategory_count = subcategory_counts.head(1)\n",
    "print(top_subcategory_count)"
   ]
  },
  {
   "cell_type": "code",
   "execution_count": 7,
   "id": "2db94379",
   "metadata": {},
   "outputs": [
    {
     "name": "stdout",
     "output_type": "stream",
     "text": [
      "client_id\n",
      "33615    220\n",
      "66037    211\n",
      "46820    209\n",
      "38378    207\n",
      "24741    207\n",
      "Name: count, dtype: int64\n"
     ]
    }
   ],
   "source": [
    "# Which five clients had the most entries in the data?\n",
    "clients = df['client_id'].value_counts()\n",
    "\n",
    "top_five_entries = clients.head(5)\n",
    "print(top_five_entries)\n"
   ]
  },
  {
   "cell_type": "code",
   "execution_count": 8,
   "id": "a6635601",
   "metadata": {},
   "outputs": [
    {
     "name": "stdout",
     "output_type": "stream",
     "text": [
      "[33615, 66037, 46820, 38378, 24741]\n"
     ]
    }
   ],
   "source": [
    "# Store the client ids of those top 5 clients in a list.\n",
    "client_counts = df['client_id'].value_counts()\n",
    "top_five_clients = client_counts.head(5)\n",
    "top_five_clients_ids = top_five_clients.index.tolist()\n",
    "print(top_five_clients_ids)"
   ]
  },
  {
   "cell_type": "code",
   "execution_count": 9,
   "id": "c88b8a3e",
   "metadata": {},
   "outputs": [
    {
     "name": "stdout",
     "output_type": "stream",
     "text": [
      "64313\n"
     ]
    }
   ],
   "source": [
    "# How many total units (the qty column) did the client with the most entries order order?\n",
    "client_counts = df['client_id'].value_counts()\n",
    "top_client = client_counts.idxmax()\n",
    "top_client_df = df[df['client_id'] == top_client]\n",
    "total_units_ordered = top_client_df['qty'].sum()\n",
    "print(total_units_ordered)"
   ]
  },
  {
   "cell_type": "markdown",
   "id": "257fcd7d",
   "metadata": {},
   "source": [
    "## Part 2: Transform the Data\n",
    "Do we know that this client spent the more money than client 66037? If not, how would we find out? Transform the data using the steps below to prepare it for analysis."
   ]
  },
  {
   "cell_type": "code",
   "execution_count": 10,
   "id": "0c25c4a8",
   "metadata": {},
   "outputs": [
    {
     "name": "stdout",
     "output_type": "stream",
     "text": [
      "   unit_price  qty  line_subtotal\n",
      "0     1096.80  105      115164.00\n",
      "1       24.95   21         523.95\n"
     ]
    }
   ],
   "source": [
    "# Create a column that calculates the subtotal for each line using the unit_price and the qty\n",
    "df['line_subtotal'] = df['unit_price'] * df['qty']\n",
    "print(df[['unit_price', 'qty', 'line_subtotal']].head(2))\n"
   ]
  },
  {
   "cell_type": "code",
   "execution_count": 11,
   "id": "ac9dafc8",
   "metadata": {},
   "outputs": [
    {
     "name": "stdout",
     "output_type": "stream",
     "text": [
      "   unit_price  unit_weight  qty  total_weight  shipping_price\n",
      "0     1096.80         7.50  105        787.50         5512.50\n",
      "1       24.95         1.49   21         31.29          312.90\n",
      "2       13.52         1.68   39         65.52          458.64\n"
     ]
    }
   ],
   "source": [
    "# Create a column for shipping price.\n",
    "df['total_weight'] = df['unit_weight'] * df['qty']\n",
    "\n",
    "# Assume a shipping price of $7 per pound for orders over 50 pounds and $10 per pound for items 50 pounds or under.\n",
    "def calculate_shipping(weight):\n",
    "    if weight > 50:\n",
    "        return weight * 7  # $7 per pound for orders over 50 pounds\n",
    "    else:\n",
    "        return weight * 10  # $10 per pound for orders 50 pounds or under\n",
    "    \n",
    "# Apply the function to create the shipping price column\n",
    "df['shipping_price'] = df['total_weight'].apply(calculate_shipping)\n",
    "\n",
    "# Display the updated DataFrame with the new 'shipping_price' column\n",
    "print(df[['unit_price', 'unit_weight', 'qty', 'total_weight', 'shipping_price']].head(3))\n",
    "\n"
   ]
  },
  {
   "cell_type": "code",
   "execution_count": 12,
   "id": "77f42c67",
   "metadata": {},
   "outputs": [
    {
     "name": "stdout",
     "output_type": "stream",
     "text": [
      "   line_subtotal  shipping_price  line_price  total_price\n",
      "0      115164.00         5512.50   131839.08    150056.60\n",
      "1         523.95          312.90      914.26      1340.67\n",
      "2         527.28          458.64     1077.12      1677.82\n"
     ]
    }
   ],
   "source": [
    "# Create a column for the total price using the subtotal and the shipping price along with a sales tax of 9.25%\n",
    "sales_tax = 0.0925\n",
    "df['line_price'] = (df['line_subtotal'] + df['shipping_price']) * (1 + sales_tax)\n",
    "df['total_price'] = (df['line_price'] + df['shipping_price']) * (1 + sales_tax)\n",
    "\n",
    "pd.options.display.float_format = '{:.2f}'.format\n",
    "\n",
    "\n",
    "print(df[['line_subtotal', 'shipping_price', 'line_price', 'total_price']].head(3))\n"
   ]
  },
  {
   "cell_type": "code",
   "execution_count": 13,
   "id": "c82ad275",
   "metadata": {},
   "outputs": [
    {
     "name": "stdout",
     "output_type": "stream",
     "text": [
      "   unit_cost  qty  shipping_price  total_cost\n",
      "0     762.71  105         5512.50    85597.05\n",
      "1      15.09   21          312.90      629.79\n",
      "2       7.86   39          458.64      765.18\n"
     ]
    }
   ],
   "source": [
    "# Create a column for the cost of each line using unit cost, qty, and\n",
    "# shipping price (assume the shipping cost is exactly what is charged to the client).\n",
    "df['total_cost'] = (df['unit_cost'] * df['qty']) + df['shipping_price']\n",
    "print(df[['unit_cost', 'qty', 'shipping_price', 'total_cost']].head(3))\n",
    "\n"
   ]
  },
  {
   "cell_type": "code",
   "execution_count": null,
   "id": "e2389018",
   "metadata": {},
   "outputs": [
    {
     "name": "stdout",
     "output_type": "stream",
     "text": [
      "   line_subtotal  total_cost   profit\n",
      "0      115164.00    85597.05 29566.95\n",
      "1         523.95      629.79  -105.84\n",
      "2         527.28      765.18  -237.90\n"
     ]
    }
   ],
   "source": [
    "# Create a column for the profit of each line using line cost and line price\n",
    "df['profit'] = df['line_subtotal'] - df['total_cost']\n",
    "\n",
    "print(df[['line_subtotal', 'total_cost', 'profit']].head(3))"
   ]
  },
  {
   "cell_type": "markdown",
   "id": "ef6f62b1",
   "metadata": {},
   "source": [
    "## Part 3: Confirm your work\n",
    "You have email receipts showing that the total prices for 3 orders. Confirm that your calculations match the receipts. Remember, each order has multiple lines.\n",
    "\n",
    "Order ID 2742071 had a total price of \\$152,811.89\n",
    "\n",
    "Order ID 2173913 had a total price of \\$162,388.71\n",
    "\n",
    "Order ID 6128929 had a total price of \\$923,441.25\n"
   ]
  },
  {
   "cell_type": "code",
   "execution_count": 15,
   "id": "c0e5d68e",
   "metadata": {},
   "outputs": [
    {
     "name": "stdout",
     "output_type": "stream",
     "text": [
      "Order 2742071 total: $152811.90\n",
      "Order 2173913 total: $162388.72\n",
      "Order 6128929 total: $923441.24\n"
     ]
    }
   ],
   "source": [
    "# Check your work using the totals above\n",
    "order_totals = df.groupby('order_id')['line_price'].sum()\n",
    "\n",
    "specific_order_ids = [2742071, 2173913, 6128929]\n",
    "\n",
    "filtered_order_totals = order_totals[order_totals.index.isin(specific_order_ids)]\n",
    "\n",
    "for order_id in specific_order_ids:\n",
    "    if order_id in filtered_order_totals:\n",
    "        line_price = filtered_order_totals[order_id]\n",
    "        print(f\"Order {order_id} total: ${line_price:.2f}\")"
   ]
  },
  {
   "cell_type": "markdown",
   "id": "b94d58ab",
   "metadata": {},
   "source": [
    "## Part 4: Summarize and Analyze\n",
    "Use the new columns with confirmed values to find the following information."
   ]
  },
  {
   "cell_type": "code",
   "execution_count": null,
   "id": "7c005f34",
   "metadata": {},
   "outputs": [
    {
     "name": "stdout",
     "output_type": "stream",
     "text": [
      "24741: $82268891.98\n",
      "33615: $8377308.57\n",
      "38378: $12906550.88\n",
      "46820: $9743794.32\n",
      "66037: $10259514.80\n"
     ]
    }
   ],
   "source": [
    "# How much did each of the top 5 clients by quantity spend? Check your work from Part 1 for client ids.\n",
    "top_five_client_ids = top_five_entries.index\n",
    "\n",
    "# Filter the data for these top 5 clients and sum their spending\n",
    "top_five_spending = df[df['client_id'].isin(top_five_client_ids)].groupby('client_id')['line_price'].sum()\n",
    "\n",
    "for client_id, amount in top_five_spending.items():\n",
    "    print(f\"{client_id}: ${amount:.2f}\")"
   ]
  },
  {
   "cell_type": "code",
   "execution_count": null,
   "id": "81b6e4d2",
   "metadata": {},
   "outputs": [
    {
     "name": "stdout",
     "output_type": "stream",
     "text": [
      "   client_id     qty  shipping_price  line_price   line_cost  line_profit\n",
      "0      24741  239862      5126448.37 82268891.98 45688899.71  36579992.27\n",
      "1      33615   64313      1828984.89  8377308.57  6175313.91   2201994.66\n",
      "2      38378   73667      3429455.40 12906550.88  9634720.98   3271829.90\n",
      "3      46820   75768      1601448.84  9743794.32  7007191.64   2736602.68\n",
      "4      66037   43018      1395151.85 10259514.80  7004482.98   3255031.82\n"
     ]
    }
   ],
   "source": [
    "# Create a summary DataFrame showing the totals for the for the top 5 clients with the following information:\n",
    "# total units purchased, total shipping price, total revenue, and total profit. \n",
    "df['profit'] =  df['line_price'] - df['total_cost']\n",
    "\n",
    "top_five_entries = clients.head(5)\n",
    "# Assuming top_five_entries is already defined as before\n",
    "top_five_client_ids = top_five_entries.index\n",
    "\n",
    "# Filter the data for the top 5 clients\n",
    "top_five_data = df[df['client_id'].isin(top_five_client_ids)]\n",
    "\n",
    "# Group by client_id and calculate the requested totals\n",
    "summary_data = top_five_data.groupby('client_id').agg(\n",
    "    qty=('qty', 'sum'),\n",
    "    shipping_price=('shipping_price', 'sum'),\n",
    "    line_price=('line_price', 'sum'),\n",
    "    line_cost=('total_cost', 'sum'),\n",
    "    line_profit=('profit', 'sum')\n",
    ").reset_index()\n",
    "\n",
    "print(summary_data)"
   ]
  },
  {
   "cell_type": "code",
   "execution_count": null,
   "id": "7be02867",
   "metadata": {},
   "outputs": [
    {
     "name": "stdout",
     "output_type": "stream",
     "text": [
      "  Client           Shipping Total Revenue Total Cost Total Profit\n",
      "      ID   Units (millions)    (millions) (millions)   (millions)\n",
      "0  33615   64313   1.828985      8.377309   6.175314     2.201995\n",
      "1  66037   43018   1.395152     10.259515   7.004483     3.255032\n",
      "2  46820   75768   1.601449      9.743794   7.007192     2.736603\n",
      "3  38378   73667   3.429455     12.906551   9.634721     3.271830\n",
      "4  24741  239862   5.126448     82.268892  45.688900    36.579992\n"
     ]
    }
   ],
   "source": [
    "# Format the data and rename the columns to names suitable for presentation.\n",
    "# print(summary_data.columns)\n",
    "# Format the money columns\n",
    "money_columns = ['shipping_price', 'line_price', 'line_cost', 'line_profit']\n",
    "\n",
    "# Define the money columns.\n",
    "# Define a function that converts a dollar amount to millions.\n",
    "def format_currency_millions(amount):\n",
    "    return f\"{amount / 1_000_000:.6f}\"  # Format in millions with six decimal points\n",
    "\n",
    "# Convert the money columns to float (if they aren't already) before formatting\n",
    "summary_data[money_columns] = summary_data[money_columns].replace('[\\$,]', '', regex=True).astype(float)\n",
    "\n",
    "# Sort the data by 'line_cost' (Total Cost) before formatting\n",
    "summary_data.sort_values(by='line_cost', ascending=True, inplace=True)\n",
    "\n",
    "# Apply the formatting function using DataFrame.apply()\n",
    "for col in money_columns:\n",
    "    summary_data[col] = summary_data[col].apply(format_currency_millions)\n",
    "\n",
    "# Reset the index\n",
    "summary_data.reset_index(drop=True, inplace=True)\n",
    "\n",
    "# Rename the columns to reflect the change in the money format. \n",
    "summary_data.columns = pd.MultiIndex.from_tuples([\n",
    "    ('Client', 'ID'),\n",
    "    ('', 'Units'),\n",
    "    ('Shipping', '(millions)'),\n",
    "    ('Total Revenue', '(millions)'),\n",
    "    ('Total Cost', '(millions)'),\n",
    "    ('Total Profit', '(millions)')\n",
    "])\n",
    "\n",
    "# Print the formatted summary data\n",
    "print(summary_data)\n",
    "\n"
   ]
  },
  {
   "cell_type": "code",
   "execution_count": null,
   "id": "8ead0986",
   "metadata": {},
   "outputs": [
    {
     "data": {
      "text/html": [
       "<div>\n",
       "<style scoped>\n",
       "    .dataframe tbody tr th:only-of-type {\n",
       "        vertical-align: middle;\n",
       "    }\n",
       "\n",
       "    .dataframe tbody tr th {\n",
       "        vertical-align: top;\n",
       "    }\n",
       "\n",
       "    .dataframe thead tr th {\n",
       "        text-align: left;\n",
       "    }\n",
       "</style>\n",
       "<table border=\"1\" class=\"dataframe\">\n",
       "  <thead>\n",
       "    <tr>\n",
       "      <th></th>\n",
       "      <th>Client</th>\n",
       "      <th></th>\n",
       "      <th>Shipping</th>\n",
       "      <th>Total Revenue</th>\n",
       "      <th>Total Cost</th>\n",
       "      <th>Total Profit</th>\n",
       "    </tr>\n",
       "    <tr>\n",
       "      <th></th>\n",
       "      <th>ID</th>\n",
       "      <th>Units</th>\n",
       "      <th>(millions)</th>\n",
       "      <th>(millions)</th>\n",
       "      <th>(millions)</th>\n",
       "      <th>(millions)</th>\n",
       "    </tr>\n",
       "  </thead>\n",
       "  <tbody>\n",
       "    <tr>\n",
       "      <th>4</th>\n",
       "      <td>24741</td>\n",
       "      <td>239862</td>\n",
       "      <td>5.126448</td>\n",
       "      <td>82.268892</td>\n",
       "      <td>45.688900</td>\n",
       "      <td>36.579992</td>\n",
       "    </tr>\n",
       "    <tr>\n",
       "      <th>3</th>\n",
       "      <td>38378</td>\n",
       "      <td>73667</td>\n",
       "      <td>3.429455</td>\n",
       "      <td>12.906551</td>\n",
       "      <td>9.634721</td>\n",
       "      <td>3.271830</td>\n",
       "    </tr>\n",
       "    <tr>\n",
       "      <th>1</th>\n",
       "      <td>66037</td>\n",
       "      <td>43018</td>\n",
       "      <td>1.395152</td>\n",
       "      <td>10.259515</td>\n",
       "      <td>7.004483</td>\n",
       "      <td>3.255032</td>\n",
       "    </tr>\n",
       "    <tr>\n",
       "      <th>2</th>\n",
       "      <td>46820</td>\n",
       "      <td>75768</td>\n",
       "      <td>1.601449</td>\n",
       "      <td>9.743794</td>\n",
       "      <td>7.007192</td>\n",
       "      <td>2.736603</td>\n",
       "    </tr>\n",
       "    <tr>\n",
       "      <th>0</th>\n",
       "      <td>33615</td>\n",
       "      <td>64313</td>\n",
       "      <td>1.828985</td>\n",
       "      <td>8.377309</td>\n",
       "      <td>6.175314</td>\n",
       "      <td>2.201995</td>\n",
       "    </tr>\n",
       "  </tbody>\n",
       "</table>\n",
       "</div>"
      ],
      "text/plain": [
       "  Client           Shipping Total Revenue Total Cost Total Profit\n",
       "      ID   Units (millions)    (millions) (millions)   (millions)\n",
       "4  24741  239862   5.126448     82.268892  45.688900    36.579992\n",
       "3  38378   73667   3.429455     12.906551   9.634721     3.271830\n",
       "1  66037   43018   1.395152     10.259515   7.004483     3.255032\n",
       "2  46820   75768   1.601449      9.743794   7.007192     2.736603\n",
       "0  33615   64313   1.828985      8.377309   6.175314     2.201995"
      ]
     },
     "execution_count": 19,
     "metadata": {},
     "output_type": "execute_result"
    }
   ],
   "source": [
    "# Sort the updated data by \"Total Profit (millions)\" form highest to lowest and assign the sort to a new DatFrame.\n",
    "# Flatten MultiIndex for easier access\n",
    "summary_data.columns = summary_data.columns.map(lambda x: ' '.join(x).strip())\n",
    "\n",
    "# Convert 'Total Profit (millions)' to numeric type (it was formatted as a string earlier)\n",
    "summary_data['Total Profit (millions)'] = summary_data['Total Profit (millions)'].astype(float)\n",
    "\n",
    "# Sort the DataFrame by 'Total Profit (millions)' in descending order (highest to lowest)\n",
    "sorted_summary_data = summary_data.sort_values(by='Total Profit (millions)', ascending=False)\n",
    "\n",
    "# Format the 'Total Profit (millions)' to 6 decimal places\n",
    "sorted_summary_data['Total Profit (millions)'] = sorted_summary_data['Total Profit (millions)'].apply(lambda x: f\"{x:.6f}\")\n",
    "\n",
    "# Revert to original MultiIndex format for better presentation\n",
    "sorted_summary_data.columns = pd.MultiIndex.from_tuples([\n",
    "    ('Client', 'ID'),\n",
    "    ('', 'Units'),\n",
    "    ('Shipping', '(millions)'),\n",
    "    ('Total Revenue', '(millions)'),\n",
    "    ('Total Cost', '(millions)'),\n",
    "    ('Total Profit', '(millions)')\n",
    "])\n",
    "\n",
    "\n",
    "# Display the sorted DataFrame\n",
    "sorted_summary_data"
   ]
  },
  {
   "cell_type": "code",
   "execution_count": null,
   "id": "87e0e7f8-b60e-4e50-ab07-c36b6deed513",
   "metadata": {},
   "outputs": [],
   "source": []
  }
 ],
 "metadata": {
  "kernelspec": {
   "display_name": "dev",
   "language": "python",
   "name": "python3"
  },
  "language_info": {
   "codemirror_mode": {
    "name": "ipython",
    "version": 3
   },
   "file_extension": ".py",
   "mimetype": "text/x-python",
   "name": "python",
   "nbconvert_exporter": "python",
   "pygments_lexer": "ipython3",
   "version": "3.10.15"
  }
 },
 "nbformat": 4,
 "nbformat_minor": 5
}
